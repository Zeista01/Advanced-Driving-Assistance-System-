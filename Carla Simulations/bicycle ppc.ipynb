{
 "cells": [
  {
   "cell_type": "code",
   "execution_count": 1,
   "metadata": {},
   "outputs": [
    {
     "name": "stdout",
     "output_type": "stream",
     "text": [
      "pygame 2.6.1 (SDL 2.28.4, Python 3.8.10)\n",
      "Hello from the pygame community. https://www.pygame.org/contribute.html\n"
     ]
    }
   ],
   "source": [
    "import pygame\n",
    "import carla\n",
    "import time\n",
    "import numpy as np\n",
    "import cv2\n",
    "\n",
    "# Connect to the CARLA client\n",
    "client = carla.Client('localhost', 2000)\n",
    "client.set_timeout(10.0)\n",
    "\n",
    "traffic_manager = client.get_trafficmanager()\n"
   ]
  },
  {
   "cell_type": "code",
   "execution_count": 2,
   "metadata": {},
   "outputs": [],
   "source": [
    "world = client.get_world()\n",
    "blueprints = world.get_blueprint_library()\n",
    "vehicle_bp = blueprints.filter('vehicle.dodge.charger_2020')[0]\n",
    "spawn_points = world.get_map().get_spawn_points()\n",
    "start_point = spawn_points[2]"
   ]
  },
  {
   "cell_type": "markdown",
   "metadata": {},
   "source": [
    "Genenrating the Trajectory"
   ]
  },
  {
   "cell_type": "code",
   "execution_count": 3,
   "metadata": {},
   "outputs": [],
   "source": [
    "def generate_trajectory(duration=50):\n",
    "    trajectory = []\n",
    "    vehicle_test = world.try_spawn_actor(vehicle_bp, start_point)\n",
    "\n",
    "    spectator = world.get_spectator()\n",
    "\n",
    "    # Get the transform of the ego vehicle\n",
    "    transform = vehicle_test.get_transform()\n",
    "\n",
    "    # Correct way to modify location\n",
    "    new_location = transform.location + carla.Location(x=-4, z=2.5)\n",
    "\n",
    "    # Correct way to modify rotation\n",
    "    new_rotation = carla.Rotation(yaw=transform.rotation.yaw - 15)\n",
    "\n",
    "    # Apply the new transformation to the spectator\n",
    "    spectator.set_transform(carla.Transform(new_location, new_rotation))\n",
    "    spectator.set_transform(transform)\n",
    "\n",
    "        \n",
    "    vehicle_test.set_autopilot(True)\n",
    "    traffic_manager.ignore_lights_percentage(vehicle_test, 100)\n",
    "    start_time = time.time()\n",
    "\n",
    "    while time.time() - start_time < duration:\n",
    "        transform = vehicle_test.get_transform()\n",
    "        location = transform.location\n",
    "        trajectory.append([location.x, location.y, location.z])  # Store as list\n",
    "        time.sleep(0.1)  # Sampling interval\n",
    "\n",
    "    vehicle_test.set_autopilot(False)\n",
    "    vehicle_test.destroy()\n",
    "\n",
    "    return np.array(trajectory)  # Convert list to NumPy array\n",
    "\n",
    "# Generate trajectory\n",
    "trajectory_np = generate_trajectory(duration=50)"
   ]
  },
  {
   "cell_type": "markdown",
   "metadata": {},
   "source": [
    "Visuzlizing it in the CARLA"
   ]
  },
  {
   "cell_type": "code",
   "execution_count": 4,
   "metadata": {},
   "outputs": [],
   "source": [
    "# Draw the trajectory in CARLA\n",
    "for waypoint in trajectory_np:\n",
    "    world.debug.draw_string(carla.Location(x=waypoint[0], y=waypoint[1], z=waypoint[2]), '^',\n",
    "                            draw_shadow=False, color=carla.Color(r=0, g=255, b=0),\n",
    "                            life_time=100.0, persistent_lines=True)\n"
   ]
  },
  {
   "cell_type": "markdown",
   "metadata": {},
   "source": [
    "Spawing the Car"
   ]
  },
  {
   "cell_type": "code",
   "execution_count": 5,
   "metadata": {},
   "outputs": [],
   "source": [
    "\n",
    "vehicle = world.try_spawn_actor(vehicle_bp, start_point)"
   ]
  },
  {
   "cell_type": "code",
   "execution_count": 6,
   "metadata": {},
   "outputs": [],
   "source": [
    "spectator = world.get_spectator()\n",
    "\n",
    "# Get the transform of the ego vehicle\n",
    "transform = vehicle.get_transform()\n",
    "\n",
    "# Correct way to modify location\n",
    "new_location = transform.location + carla.Location(x=-4, z=2.5)\n",
    "\n",
    "# Correct way to modify rotation\n",
    "new_rotation = carla.Rotation(yaw=transform.rotation.yaw - 15)\n",
    "\n",
    "# Apply the new transformation to the spectator\n",
    "spectator.set_transform(carla.Transform(new_location, new_rotation))\n",
    "spectator.set_transform(transform)\n"
   ]
  },
  {
   "cell_type": "markdown",
   "metadata": {},
   "source": [
    "Configuring and mounting the Camera"
   ]
  },
  {
   "cell_type": "code",
   "execution_count": 7,
   "metadata": {},
   "outputs": [],
   "source": [
    "CAMERA_POS_Z = 3\n",
    "CAMERA_POS_X = -5\n",
    "\n",
    "camera_bp = world.get_blueprint_library().find('sensor.camera.rgb')\n",
    "camera_bp.set_attribute('image_size_x', '640')\n",
    "camera_bp.set_attribute('image_size_y', '360')\n",
    "camera_bp.set_attribute('fov', '110')\n",
    "\n",
    "camera_transform = carla.Transform(carla.Location(z=CAMERA_POS_Z, x=CAMERA_POS_X))\n",
    "camera = world.spawn_actor(camera_bp, camera_transform, attach_to=vehicle)\n",
    "\n",
    "# Data storage for camera images\n",
    "camera_data = {'image': np.zeros((360, 640, 3), dtype=np.uint8)}\n",
    "\n",
    "def camera_callback(image, data_dict):\n",
    "    \"\"\"Processes camera images from CARLA and updates data_dict.\"\"\"\n",
    "    array = np.frombuffer(image.raw_data, dtype=np.uint8)\n",
    "    array = array.reshape((image.height, image.width, 4))  # BGRA format\n",
    "    data_dict['image'] = array[:, :, :3]  # Keep only BGR channels\n",
    "\n",
    "# Attach the camera callback\n",
    "camera.listen(lambda image: camera_callback(image, camera_data))"
   ]
  },
  {
   "cell_type": "markdown",
   "metadata": {},
   "source": [
    "Setting up the ppc for Bicycle Model"
   ]
  },
  {
   "cell_type": "code",
   "execution_count": 8,
   "metadata": {},
   "outputs": [],
   "source": [
    "L = vehicle.bounding_box.extent.x * 2  # Approximate wheelbase\n",
    "K = 1.0  # Lookahead gain\n",
    "dt = 0.1  # Control loop time step\n",
    "\n",
    "def calculate_target(vehicle, trajectory_np, lookahead_distance, start_index):\n",
    "    vehicle_location = vehicle.get_transform().location\n",
    "    for i in range(start_index, len(trajectory_np)):\n",
    "        distance = np.linalg.norm([vehicle_location.x - trajectory_np[i][0],\n",
    "                                   vehicle_location.y - trajectory_np[i][1]])\n",
    "        if distance >= lookahead_distance:\n",
    "            return trajectory_np[i], i\n",
    "    # Default to the last waypoint if none satisfy the lookahead condition.\n",
    "    return trajectory_np[-1], len(trajectory_np) - 1\n"
   ]
  },
  {
   "cell_type": "markdown",
   "metadata": {},
   "source": [
    "Implementing the Bicycle Model"
   ]
  },
  {
   "cell_type": "code",
   "execution_count": 9,
   "metadata": {},
   "outputs": [],
   "source": [
    "def pure_pursuit_control(vehicle, target, L, K):\n",
    "\n",
    "    vehicle_transform = vehicle.get_transform()\n",
    "    vehicle_location = vehicle_transform.location\n",
    "    vehicle_yaw = np.deg2rad(vehicle_transform.rotation.yaw)\n",
    "\n",
    "    velocity = vehicle.get_velocity()\n",
    "    v = np.linalg.norm([velocity.x, velocity.y, velocity.z])\n",
    "    \n",
    "    alpha = np.arctan2(target[1] - vehicle_location.y, target[0] - vehicle_location.x) - vehicle_yaw\n",
    "    delta = np.arctan(2 * L * np.sin(alpha) / max(K * v, 1.0))\n",
    "    delta = np.clip(delta, -np.pi / 4, np.pi / 4)\n",
    "    \n",
    "    control = carla.VehicleControl()\n",
    "    control.throttle = 0.5\n",
    "    control.steer = float(delta / (np.pi / 4))\n",
    "    vehicle.apply_control(control)\n"
   ]
  },
  {
   "cell_type": "markdown",
   "metadata": {},
   "source": [
    "Main Camera and Control Loop"
   ]
  },
  {
   "cell_type": "code",
   "execution_count": 10,
   "metadata": {},
   "outputs": [
    {
     "name": "stdout",
     "output_type": "stream",
     "text": [
      "Final waypoint reached. Stopping vehicle.\n",
      "Video saved as output.avi\n"
     ]
    }
   ],
   "source": [
    "# Initialize Video Writer\n",
    "video_filename = \"output.avi\"\n",
    "frame_width = 640\n",
    "frame_height = 360\n",
    "fps = 30  # Frames per second\n",
    "\n",
    "# Define VideoWriter object\n",
    "fourcc = cv2.VideoWriter_fourcc(*'XVID')  # Codec for .avi format\n",
    "video_writer = cv2.VideoWriter(video_filename, fourcc, fps, (frame_width, frame_height))\n",
    "\n",
    "\n",
    "\n",
    "waypoint_index = 0  # Initialize lookahead index\n",
    "\n",
    "try:\n",
    "    while True:\n",
    "        # --- Display Camera Feed ---\n",
    "        frame = camera_data['image']\n",
    "        cv2.imshow('CARLA Camera View', frame)\n",
    "\n",
    "        # Save frame to video\n",
    "        video_writer.write(frame)\n",
    "\n",
    "        if cv2.waitKey(1) & 0xFF == ord('q'):\n",
    "            break\n",
    "\n",
    "        # --- Pure Pursuit Control ---\n",
    "        velocity = vehicle.get_velocity()\n",
    "        v = np.linalg.norm([velocity.x, velocity.y, velocity.z])\n",
    "        lookahead_distance = max(K * v, 1.0)\n",
    "\n",
    "        # Get the target waypoint using the current index and update the index\n",
    "        target, waypoint_index = calculate_target(vehicle, trajectory_np, lookahead_distance, waypoint_index)\n",
    "\n",
    "        # --- Stop Condition: If the vehicle is near the last waypoint ---\n",
    "        final_waypoint = trajectory_np[-1]\n",
    "        distance_to_goal = np.linalg.norm([vehicle.get_transform().location.x - final_waypoint[0],\n",
    "                                           vehicle.get_transform().location.y - final_waypoint[1]])\n",
    "        \n",
    "        if distance_to_goal < 2.0:  # Stop when within 2 meters of the last waypoint\n",
    "            print(\"Final waypoint reached. Stopping vehicle.\")\n",
    "            control = carla.VehicleControl()\n",
    "            control.throttle = 0.0\n",
    "            control.brake = 1.0  # Apply full brake\n",
    "            control.steer = 0.0\n",
    "            vehicle.apply_control(control)\n",
    "            break  # Exit the loop\n",
    "\n",
    "        pure_pursuit_control(vehicle, target, L, K)\n",
    "        time.sleep(dt)\n",
    "\n",
    "except KeyboardInterrupt:\n",
    "    pass\n",
    "\n",
    "print(f\"Video saved as {video_filename}\")\n"
   ]
  },
  {
   "cell_type": "code",
   "execution_count": 22,
   "metadata": {},
   "outputs": [
    {
     "data": {
      "text/plain": [
       "True"
      ]
     },
     "execution_count": 22,
     "metadata": {},
     "output_type": "execute_result"
    }
   ],
   "source": [
    "cv2.destroyAllWindows()\n",
    "camera.stop()\n",
    "camera.destroy()\n",
    "vehicle.destroy()"
   ]
  },
  {
   "cell_type": "code",
   "execution_count": 11,
   "metadata": {},
   "outputs": [],
   "source": [
    "# OpenCV display loop\n",
    "while True:\n",
    "    img = camera_data['image']\n",
    "    cv2.imshow('CARLA Camera View', img)\n",
    "\n",
    "    # Break loop on 'q' key press\n",
    "    if cv2.waitKey(1) & 0xFF == ord('q'):\n",
    "        break\n",
    "\n",
    "# Clean up\n",
    "cv2.destroyAllWindows()"
   ]
  }
 ],
 "metadata": {
  "kernelspec": {
   "display_name": ".venv",
   "language": "python",
   "name": "python3"
  },
  "language_info": {
   "codemirror_mode": {
    "name": "ipython",
    "version": 3
   },
   "file_extension": ".py",
   "mimetype": "text/x-python",
   "name": "python",
   "nbconvert_exporter": "python",
   "pygments_lexer": "ipython3",
   "version": "3.8.10"
  }
 },
 "nbformat": 4,
 "nbformat_minor": 2
}
